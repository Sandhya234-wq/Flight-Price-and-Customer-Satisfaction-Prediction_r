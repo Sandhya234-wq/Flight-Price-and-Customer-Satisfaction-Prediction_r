{
 "cells": [
  {
   "cell_type": "code",
   "execution_count": 1,
   "metadata": {
    "executionInfo": {
     "elapsed": 280,
     "status": "ok",
     "timestamp": 1751662907840,
     "user": {
      "displayName": "Sandhya Saroj",
      "userId": "05699049451329936310"
     },
     "user_tz": -330
    },
    "id": "tydGKRlZC1p5"
   },
   "outputs": [],
   "source": [
    "import pandas as pd\n",
    "import numpy as np\n",
    "import matplotlib.pyplot as plt\n",
    "import seaborn as sns\n"
   ]
  },
  {
   "cell_type": "code",
   "execution_count": 2,
   "metadata": {
    "executionInfo": {
     "elapsed": 7,
     "status": "ok",
     "timestamp": 1751662907850,
     "user": {
      "displayName": "Sandhya Saroj",
      "userId": "05699049451329936310"
     },
     "user_tz": -330
    },
    "id": "2pzxY9NuKib_"
   },
   "outputs": [],
   "source": [
    "from sklearn.model_selection import train_test_split\n",
    "from sklearn.pipeline import Pipeline\n",
    "from sklearn.compose import ColumnTransformer\n",
    "from sklearn.preprocessing import OneHotEncoder, StandardScaler\n",
    "\n",
    "from sklearn.linear_model import LinearRegression\n",
    "from sklearn.ensemble import RandomForestRegressor\n",
    "from xgboost import XGBRegressor\n",
    "\n",
    "from sklearn.metrics import mean_absolute_error, r2_score,mean_squared_error"
   ]
  },
  {
   "cell_type": "code",
   "execution_count": 3,
   "metadata": {},
   "outputs": [],
   "source": [
    "#pip install xgboost"
   ]
  },
  {
   "cell_type": "code",
   "execution_count": null,
   "metadata": {},
   "outputs": [
    {
     "data": {
      "text/html": [
       "<pre style=\"white-space:pre;overflow-x:auto;line-height:normal;font-family:Menlo,'DejaVu Sans Mono',consolas,'Courier New',monospace\">Accessing as Sandhya234-wq\n",
       "</pre>\n"
      ],
      "text/plain": [
       "Accessing as Sandhya234-wq\n"
      ]
     },
     "metadata": {},
     "output_type": "display_data"
    },
    {
     "data": {
      "text/html": [
       "<pre style=\"white-space:pre;overflow-x:auto;line-height:normal;font-family:Menlo,'DejaVu Sans Mono',consolas,'Courier New',monospace\">Initialized MLflow to track repo <span style=\"color: #008000; text-decoration-color: #008000\">\"Sandhya234-wq/Flight-Price-Prediction\"</span>\n",
       "</pre>\n"
      ],
      "text/plain": [
       "Initialized MLflow to track repo \u001b[32m\"Sandhya234-wq/Flight-Price-Prediction\"\u001b[0m\n"
      ]
     },
     "metadata": {},
     "output_type": "display_data"
    },
    {
     "data": {
      "text/html": [
       "<pre style=\"white-space:pre;overflow-x:auto;line-height:normal;font-family:Menlo,'DejaVu Sans Mono',consolas,'Courier New',monospace\">Repository Sandhya234-wq/Flight-Price-Prediction initialized!\n",
       "</pre>\n"
      ],
      "text/plain": [
       "Repository Sandhya234-wq/Flight-Price-Prediction initialized!\n"
      ]
     },
     "metadata": {},
     "output_type": "display_data"
    },
    {
     "data": {
      "text/plain": [
       "<Experiment: artifact_location='mlflow-artifacts:/f2a87b2704e7473c98bce6794fdec9de', creation_time=1751670804951, experiment_id='0', last_update_time=1751670804951, lifecycle_stage='active', name='Flight_Price_Prediction', tags={}>"
      ]
     },
     "execution_count": 4,
     "metadata": {},
     "output_type": "execute_result"
    }
   ],
   "source": [
    "import dagshub\n",
    "import mlflow\n",
    "\n",
    "dagshub.init(\n",
    "    repo_owner='Sandhya234-wq', \n",
    "    repo_name='Flight-Price-Prediction', \n",
    "    mlflow=True\n",
    ")\n",
    "\n",
    "\n",
    "\n",
    "mlflow.set_tracking_uri('https://dagshub.com/Sandhya234-wq/Flight-Price-Prediction.mlflow')\n",
    "\n",
    "mlflow.set_experiment(\"Flight_Price_Prediction\")\n"
   ]
  },
  {
   "cell_type": "code",
   "execution_count": 5,
   "metadata": {
    "executionInfo": {
     "elapsed": 84,
     "status": "ok",
     "timestamp": 1751662907930,
     "user": {
      "displayName": "Sandhya Saroj",
      "userId": "05699049451329936310"
     },
     "user_tz": -330
    },
    "id": "D_npcYIDDB2Y"
   },
   "outputs": [],
   "source": [
    "dataset = pd.read_csv(r'G:\\GitDemo\\Flight_ML_Project\\Flight_Price.csv')"
   ]
  },
  {
   "cell_type": "code",
   "execution_count": 6,
   "metadata": {
    "colab": {
     "base_uri": "https://localhost:8080/",
     "height": 178
    },
    "executionInfo": {
     "elapsed": 198,
     "status": "ok",
     "timestamp": 1751662908123,
     "user": {
      "displayName": "Sandhya Saroj",
      "userId": "05699049451329936310"
     },
     "user_tz": -330
    },
    "id": "2KwpbZJoETgd",
    "outputId": "5854782e-7b7a-4c9e-c8c2-587842dc40ee"
   },
   "outputs": [
    {
     "data": {
      "text/html": [
       "<div>\n",
       "<style scoped>\n",
       "    .dataframe tbody tr th:only-of-type {\n",
       "        vertical-align: middle;\n",
       "    }\n",
       "\n",
       "    .dataframe tbody tr th {\n",
       "        vertical-align: top;\n",
       "    }\n",
       "\n",
       "    .dataframe thead th {\n",
       "        text-align: right;\n",
       "    }\n",
       "</style>\n",
       "<table border=\"1\" class=\"dataframe\">\n",
       "  <thead>\n",
       "    <tr style=\"text-align: right;\">\n",
       "      <th></th>\n",
       "      <th>Airline</th>\n",
       "      <th>Date_of_Journey</th>\n",
       "      <th>Source</th>\n",
       "      <th>Destination</th>\n",
       "      <th>Route</th>\n",
       "      <th>Dep_Time</th>\n",
       "      <th>Arrival_Time</th>\n",
       "      <th>Duration</th>\n",
       "      <th>Total_Stops</th>\n",
       "      <th>Additional_Info</th>\n",
       "      <th>Price</th>\n",
       "    </tr>\n",
       "  </thead>\n",
       "  <tbody>\n",
       "    <tr>\n",
       "      <th>0</th>\n",
       "      <td>IndiGo</td>\n",
       "      <td>24/03/2019</td>\n",
       "      <td>Banglore</td>\n",
       "      <td>New Delhi</td>\n",
       "      <td>BLR ? DEL</td>\n",
       "      <td>22:20</td>\n",
       "      <td>01:10 22 Mar</td>\n",
       "      <td>2h 50m</td>\n",
       "      <td>non-stop</td>\n",
       "      <td>No info</td>\n",
       "      <td>3897</td>\n",
       "    </tr>\n",
       "    <tr>\n",
       "      <th>1</th>\n",
       "      <td>Air India</td>\n",
       "      <td>1/05/2019</td>\n",
       "      <td>Kolkata</td>\n",
       "      <td>Banglore</td>\n",
       "      <td>CCU ? IXR ? BBI ? BLR</td>\n",
       "      <td>05:50</td>\n",
       "      <td>13:15</td>\n",
       "      <td>7h 25m</td>\n",
       "      <td>2 stops</td>\n",
       "      <td>No info</td>\n",
       "      <td>7662</td>\n",
       "    </tr>\n",
       "    <tr>\n",
       "      <th>2</th>\n",
       "      <td>Jet Airways</td>\n",
       "      <td>9/06/2019</td>\n",
       "      <td>Delhi</td>\n",
       "      <td>Cochin</td>\n",
       "      <td>DEL ? LKO ? BOM ? COK</td>\n",
       "      <td>09:25</td>\n",
       "      <td>04:25 10 Jun</td>\n",
       "      <td>19h</td>\n",
       "      <td>2 stops</td>\n",
       "      <td>No info</td>\n",
       "      <td>13882</td>\n",
       "    </tr>\n",
       "  </tbody>\n",
       "</table>\n",
       "</div>"
      ],
      "text/plain": [
       "       Airline Date_of_Journey    Source Destination                  Route  \\\n",
       "0       IndiGo      24/03/2019  Banglore   New Delhi              BLR ? DEL   \n",
       "1    Air India       1/05/2019   Kolkata    Banglore  CCU ? IXR ? BBI ? BLR   \n",
       "2  Jet Airways       9/06/2019     Delhi      Cochin  DEL ? LKO ? BOM ? COK   \n",
       "\n",
       "  Dep_Time  Arrival_Time Duration Total_Stops Additional_Info  Price  \n",
       "0    22:20  01:10 22 Mar   2h 50m    non-stop         No info   3897  \n",
       "1    05:50         13:15   7h 25m     2 stops         No info   7662  \n",
       "2    09:25  04:25 10 Jun      19h     2 stops         No info  13882  "
      ]
     },
     "execution_count": 6,
     "metadata": {},
     "output_type": "execute_result"
    }
   ],
   "source": [
    "dataset.head(3)"
   ]
  },
  {
   "cell_type": "code",
   "execution_count": null,
   "metadata": {
    "executionInfo": {
     "elapsed": 32,
     "status": "ok",
     "timestamp": 1751662908158,
     "user": {
      "displayName": "Sandhya Saroj",
      "userId": "05699049451329936310"
     },
     "user_tz": -330
    },
    "id": "yADaDL8RFpAZ"
   },
   "outputs": [],
   "source": []
  },
  {
   "cell_type": "code",
   "execution_count": 7,
   "metadata": {
    "colab": {
     "base_uri": "https://localhost:8080/"
    },
    "executionInfo": {
     "elapsed": 36,
     "status": "ok",
     "timestamp": 1751662908204,
     "user": {
      "displayName": "Sandhya Saroj",
      "userId": "05699049451329936310"
     },
     "user_tz": -330
    },
    "id": "e_Q_RxdFEbQK",
    "outputId": "4711d6e1-2941-4150-b0ab-16ad9634b060"
   },
   "outputs": [
    {
     "name": "stdout",
     "output_type": "stream",
     "text": [
      "<class 'pandas.core.frame.DataFrame'>\n",
      "RangeIndex: 10683 entries, 0 to 10682\n",
      "Data columns (total 11 columns):\n",
      " #   Column           Non-Null Count  Dtype \n",
      "---  ------           --------------  ----- \n",
      " 0   Airline          10683 non-null  object\n",
      " 1   Date_of_Journey  10683 non-null  object\n",
      " 2   Source           10683 non-null  object\n",
      " 3   Destination      10683 non-null  object\n",
      " 4   Route            10682 non-null  object\n",
      " 5   Dep_Time         10683 non-null  object\n",
      " 6   Arrival_Time     10683 non-null  object\n",
      " 7   Duration         10683 non-null  object\n",
      " 8   Total_Stops      10682 non-null  object\n",
      " 9   Additional_Info  10683 non-null  object\n",
      " 10  Price            10683 non-null  int64 \n",
      "dtypes: int64(1), object(10)\n",
      "memory usage: 918.2+ KB\n"
     ]
    }
   ],
   "source": [
    "dataset.info()"
   ]
  },
  {
   "cell_type": "code",
   "execution_count": 8,
   "metadata": {
    "executionInfo": {
     "elapsed": 2,
     "status": "ok",
     "timestamp": 1751662908208,
     "user": {
      "displayName": "Sandhya Saroj",
      "userId": "05699049451329936310"
     },
     "user_tz": -330
    },
    "id": "uC2-FoVjEh_Q"
   },
   "outputs": [],
   "source": [
    "dataset['Journey_day'] = pd.to_datetime(dataset['Date_of_Journey'], format=\"%d/%m/%Y\").dt.day\n",
    "dataset['Journey_month'] = pd.to_datetime(dataset['Date_of_Journey'], format=\"%d/%m/%Y\").dt.month\n",
    "dataset.drop(['Date_of_Journey'], axis=1, inplace=True)\n"
   ]
  },
  {
   "cell_type": "code",
   "execution_count": 9,
   "metadata": {
    "colab": {
     "base_uri": "https://localhost:8080/"
    },
    "executionInfo": {
     "elapsed": 58,
     "status": "ok",
     "timestamp": 1751662908271,
     "user": {
      "displayName": "Sandhya Saroj",
      "userId": "05699049451329936310"
     },
     "user_tz": -330
    },
    "id": "DoNFQiOKGW5z",
    "outputId": "a749f9bd-8333-44e2-b4b4-45599d85fda8"
   },
   "outputs": [
    {
     "name": "stderr",
     "output_type": "stream",
     "text": [
      "C:\\Users\\hp\\AppData\\Local\\Temp\\ipykernel_15072\\276504002.py:2: UserWarning: Could not infer format, so each element will be parsed individually, falling back to `dateutil`. To ensure parsing is consistent and as-expected, please specify a format.\n",
      "  dataset['Dep_hour'] = pd.to_datetime(dataset['Dep_Time']).dt.hour\n",
      "C:\\Users\\hp\\AppData\\Local\\Temp\\ipykernel_15072\\276504002.py:3: UserWarning: Could not infer format, so each element will be parsed individually, falling back to `dateutil`. To ensure parsing is consistent and as-expected, please specify a format.\n",
      "  dataset['Dep_minute'] = pd.to_datetime(dataset['Dep_Time']).dt.minute\n"
     ]
    }
   ],
   "source": [
    "# Departure Time\n",
    "dataset['Dep_hour'] = pd.to_datetime(dataset['Dep_Time']).dt.hour\n",
    "dataset['Dep_minute'] = pd.to_datetime(dataset['Dep_Time']).dt.minute\n"
   ]
  },
  {
   "cell_type": "code",
   "execution_count": 10,
   "metadata": {
    "executionInfo": {
     "elapsed": 8,
     "status": "ok",
     "timestamp": 1751662908272,
     "user": {
      "displayName": "Sandhya Saroj",
      "userId": "05699049451329936310"
     },
     "user_tz": -330
    },
    "id": "eyXKxA9PG7zs"
   },
   "outputs": [],
   "source": [
    "dataset.drop(['Dep_Time'], axis=1, inplace=True)"
   ]
  },
  {
   "cell_type": "code",
   "execution_count": 11,
   "metadata": {
    "colab": {
     "base_uri": "https://localhost:8080/"
    },
    "executionInfo": {
     "elapsed": 34,
     "status": "ok",
     "timestamp": 1751662908302,
     "user": {
      "displayName": "Sandhya Saroj",
      "userId": "05699049451329936310"
     },
     "user_tz": -330
    },
    "id": "N88jaNUVGdlV",
    "outputId": "b59bc14a-6b62-4efd-acd1-1b2ed2bef3da"
   },
   "outputs": [
    {
     "name": "stderr",
     "output_type": "stream",
     "text": [
      "C:\\Users\\hp\\AppData\\Local\\Temp\\ipykernel_15072\\1836629200.py:3: UserWarning: Could not infer format, so each element will be parsed individually, falling back to `dateutil`. To ensure parsing is consistent and as-expected, please specify a format.\n",
      "  dataset['Arrival_hour'] = pd.to_datetime(dataset['Arrival_Time']).dt.hour\n",
      "C:\\Users\\hp\\AppData\\Local\\Temp\\ipykernel_15072\\1836629200.py:4: UserWarning: Could not infer format, so each element will be parsed individually, falling back to `dateutil`. To ensure parsing is consistent and as-expected, please specify a format.\n",
      "  dataset['Arrival_minute'] = pd.to_datetime(dataset['Arrival_Time']).dt.minute\n"
     ]
    }
   ],
   "source": [
    "# Arrival Time (handle date suffix)\n",
    "dataset['Arrival_Time'] = dataset['Arrival_Time'].str.split().str[0]  # Remove date part\n",
    "dataset['Arrival_hour'] = pd.to_datetime(dataset['Arrival_Time']).dt.hour\n",
    "dataset['Arrival_minute'] = pd.to_datetime(dataset['Arrival_Time']).dt.minute\n"
   ]
  },
  {
   "cell_type": "code",
   "execution_count": 12,
   "metadata": {
    "executionInfo": {
     "elapsed": 28,
     "status": "ok",
     "timestamp": 1751662908331,
     "user": {
      "displayName": "Sandhya Saroj",
      "userId": "05699049451329936310"
     },
     "user_tz": -330
    },
    "id": "cdvHIYpLHBOy"
   },
   "outputs": [],
   "source": [
    "dataset.drop(['Arrival_Time'], axis=1, inplace=True)"
   ]
  },
  {
   "cell_type": "code",
   "execution_count": 13,
   "metadata": {
    "executionInfo": {
     "elapsed": 25,
     "status": "ok",
     "timestamp": 1751662908355,
     "user": {
      "displayName": "Sandhya Saroj",
      "userId": "05699049451329936310"
     },
     "user_tz": -330
    },
    "id": "TWQujRqcHiNm"
   },
   "outputs": [],
   "source": [
    "# Fill missing 'm' or 'h'\n",
    "dataset['Duration'] = dataset['Duration'].apply(lambda x: x if 'h' in x else '0h ' + x)\n",
    "dataset['Duration'] = dataset['Duration'].apply(lambda x: x if 'm' in x else x + ' 0m')"
   ]
  },
  {
   "cell_type": "code",
   "execution_count": 14,
   "metadata": {
    "executionInfo": {
     "elapsed": 3,
     "status": "ok",
     "timestamp": 1751662908361,
     "user": {
      "displayName": "Sandhya Saroj",
      "userId": "05699049451329936310"
     },
     "user_tz": -330
    },
    "id": "BmB8bcfPIFfk"
   },
   "outputs": [],
   "source": [
    "# Extract hours and minutes\n",
    "dataset['Duration_hours'] = dataset['Duration'].apply(lambda x: int(x.split('h')[0]))\n",
    "dataset['Duration_minutes'] = dataset['Duration'].apply(lambda x: int(x.split('h')[1].split('m')[0].strip()))\n"
   ]
  },
  {
   "cell_type": "code",
   "execution_count": 15,
   "metadata": {
    "executionInfo": {
     "elapsed": 24,
     "status": "ok",
     "timestamp": 1751662908389,
     "user": {
      "displayName": "Sandhya Saroj",
      "userId": "05699049451329936310"
     },
     "user_tz": -330
    },
    "id": "U83mZw3wIQdc"
   },
   "outputs": [],
   "source": [
    "dataset.drop(['Duration'], axis=1, inplace=True)"
   ]
  },
  {
   "cell_type": "code",
   "execution_count": 16,
   "metadata": {
    "executionInfo": {
     "elapsed": 17,
     "status": "ok",
     "timestamp": 1751662908409,
     "user": {
      "displayName": "Sandhya Saroj",
      "userId": "05699049451329936310"
     },
     "user_tz": -330
    },
    "id": "2w19RENdIkYX"
   },
   "outputs": [],
   "source": [
    "stops_map = {'non-stop': 0, '1 stop': 1, '2 stops': 2, '3 stops': 3, '4 stops': 4}\n",
    "dataset['Total_Stops'] = dataset['Total_Stops'].map(stops_map)\n"
   ]
  },
  {
   "cell_type": "code",
   "execution_count": null,
   "metadata": {
    "executionInfo": {
     "elapsed": 1,
     "status": "ok",
     "timestamp": 1751662908415,
     "user": {
      "displayName": "Sandhya Saroj",
      "userId": "05699049451329936310"
     },
     "user_tz": -330
    },
    "id": "tedXqE4KLdDd"
   },
   "outputs": [],
   "source": []
  },
  {
   "cell_type": "code",
   "execution_count": 17,
   "metadata": {
    "executionInfo": {
     "elapsed": 2,
     "status": "ok",
     "timestamp": 1751662908440,
     "user": {
      "displayName": "Sandhya Saroj",
      "userId": "05699049451329936310"
     },
     "user_tz": -330
    },
    "id": "lzlrYJ3SI-4N"
   },
   "outputs": [],
   "source": [
    "dataset.drop(['Route', 'Additional_Info'], axis=1, inplace=True)\n"
   ]
  },
  {
   "cell_type": "code",
   "execution_count": 18,
   "metadata": {
    "colab": {
     "base_uri": "https://localhost:8080/",
     "height": 491
    },
    "executionInfo": {
     "elapsed": 35,
     "status": "ok",
     "timestamp": 1751662908478,
     "user": {
      "displayName": "Sandhya Saroj",
      "userId": "05699049451329936310"
     },
     "user_tz": -330
    },
    "id": "X-lEA46KJ4u1",
    "outputId": "aa611005-a710-4b07-a882-2fd2e5a10d29"
   },
   "outputs": [
    {
     "data": {
      "text/plain": [
       "Airline             0\n",
       "Source              0\n",
       "Destination         0\n",
       "Total_Stops         1\n",
       "Price               0\n",
       "Journey_day         0\n",
       "Journey_month       0\n",
       "Dep_hour            0\n",
       "Dep_minute          0\n",
       "Arrival_hour        0\n",
       "Arrival_minute      0\n",
       "Duration_hours      0\n",
       "Duration_minutes    0\n",
       "dtype: int64"
      ]
     },
     "execution_count": 18,
     "metadata": {},
     "output_type": "execute_result"
    }
   ],
   "source": [
    "dataset.isnull().sum()"
   ]
  },
  {
   "cell_type": "code",
   "execution_count": 19,
   "metadata": {},
   "outputs": [],
   "source": [
    "dataset.dropna(inplace=True)"
   ]
  },
  {
   "cell_type": "code",
   "execution_count": 20,
   "metadata": {
    "colab": {
     "base_uri": "https://localhost:8080/"
    },
    "executionInfo": {
     "elapsed": 46,
     "status": "ok",
     "timestamp": 1751662908519,
     "user": {
      "displayName": "Sandhya Saroj",
      "userId": "05699049451329936310"
     },
     "user_tz": -330
    },
    "id": "MFcC7kKrJpF_",
    "outputId": "3e213da8-15b8-4183-bcaf-91938ebb27d4"
   },
   "outputs": [
    {
     "data": {
      "text/plain": [
       "np.int64(222)"
      ]
     },
     "execution_count": 20,
     "metadata": {},
     "output_type": "execute_result"
    }
   ],
   "source": [
    "dataset.duplicated().sum()"
   ]
  },
  {
   "cell_type": "code",
   "execution_count": null,
   "metadata": {
    "executionInfo": {
     "elapsed": 11,
     "status": "ok",
     "timestamp": 1751662908519,
     "user": {
      "displayName": "Sandhya Saroj",
      "userId": "05699049451329936310"
     },
     "user_tz": -330
    },
    "id": "8BmqyenbLn8x"
   },
   "outputs": [],
   "source": []
  },
  {
   "cell_type": "code",
   "execution_count": null,
   "metadata": {
    "executionInfo": {
     "elapsed": 52,
     "status": "ok",
     "timestamp": 1751662908568,
     "user": {
      "displayName": "Sandhya Saroj",
      "userId": "05699049451329936310"
     },
     "user_tz": -330
    },
    "id": "j7b7i_siJbGT"
   },
   "outputs": [],
   "source": []
  },
  {
   "cell_type": "code",
   "execution_count": null,
   "metadata": {},
   "outputs": [],
   "source": []
  },
  {
   "cell_type": "code",
   "execution_count": 21,
   "metadata": {},
   "outputs": [
    {
     "data": {
      "image/png": "[encoded data removed]",
      "text/plain": [
       "<Figure size 640x480 with 1 Axes>"
      ]
     },
     "metadata": {},
     "output_type": "display_data"
    }
   ],
   "source": [
    " #EDA Visualizations\n",
    "sns.boxplot(data=dataset, x='Total_Stops', y='Price')\n",
    "plt.title(\"Price vs Total Stops\")\n",
    "plt.show()\n"
   ]
  },
  {
   "cell_type": "code",
   "execution_count": null,
   "metadata": {},
   "outputs": [],
   "source": []
  },
  {
   "cell_type": "code",
   "execution_count": 22,
   "metadata": {},
   "outputs": [
    {
     "data": {
      "image/png": "[encoded data removed]",
      "text/plain": [
       "<Figure size 640x480 with 1 Axes>"
      ]
     },
     "metadata": {},
     "output_type": "display_data"
    }
   ],
   "source": [
    "sns.barplot(data=dataset, x='Source', y='Price', estimator=np.mean)\n",
    "plt.title(\"Average Price by Source\")\n",
    "plt.show()"
   ]
  },
  {
   "cell_type": "code",
   "execution_count": null,
   "metadata": {},
   "outputs": [],
   "source": []
  },
  {
   "cell_type": "code",
   "execution_count": 23,
   "metadata": {},
   "outputs": [
    {
     "data": {
      "image/png": "[encoded data removed]",
      "text/plain": [
       "<Figure size 640x480 with 2 Axes>"
      ]
     },
     "metadata": {},
     "output_type": "display_data"
    }
   ],
   "source": [
    "sns.heatmap(dataset[['Price', 'Journey_day', 'Journey_month', 'Dep_hour', 'Dep_minute',\n",
    "                'Arrival_hour', 'Arrival_minute', 'Duration_hours', 'Duration_minutes']].corr(), annot=True)\n",
    "plt.title(\"Feature Correlation Heatmap\")\n",
    "plt.show()"
   ]
  },
  {
   "cell_type": "code",
   "execution_count": 24,
   "metadata": {},
   "outputs": [],
   "source": [
    "import os\n",
    "os.makedirs(\"plots\", exist_ok=True)"
   ]
  },
  {
   "cell_type": "code",
   "execution_count": 25,
   "metadata": {},
   "outputs": [
    {
     "data": {
      "image/png": "[encoded data removed]",
      "text/plain": [
       "<Figure size 640x480 with 1 Axes>"
      ]
     },
     "metadata": {},
     "output_type": "display_data"
    }
   ],
   "source": [
    "sns.scatterplot(x='Duration_hours', y='Price', data=dataset)\n",
    "plt.show()"
   ]
  },
  {
   "cell_type": "code",
   "execution_count": 26,
   "metadata": {},
   "outputs": [],
   "source": [
    "plot_definitions = {\n",
    "    \"price_vs_total_stops\": lambda: sns.boxplot(x='Total_Stops', y='Price', data=dataset),\n",
    "    \"avg_price_by_source\": lambda: sns.barplot(x='Source', y='Price', data=dataset, estimator=np.mean),\n",
    "    \"duration_vs_price\": lambda: sns.scatterplot(x='Duration_hours', y='Price', data=dataset),\n",
    "    \"correlation_heatmap\": lambda: sns.heatmap(dataset[['Price', 'Journey_day', 'Journey_month', 'Dep_hour',\n",
    "                              'Dep_minute', 'Arrival_hour', 'Arrival_minute',\n",
    "                            'Duration_hours', 'Duration_minutes']].corr(), annot=True, cmap='coolwarm')\n",
    "}"
   ]
  },
  {
   "cell_type": "code",
   "execution_count": 27,
   "metadata": {},
   "outputs": [],
   "source": [
    "\n",
    "os.makedirs(\"plots2\", exist_ok=True)"
   ]
  },
  {
   "cell_type": "code",
   "execution_count": 28,
   "metadata": {},
   "outputs": [],
   "source": [
    "for plot_name, plot_func in plot_definitions.items():\n",
    "    plt.figure(figsize=(8, 5))\n",
    "    plot_func()\n",
    "    plt.title(plot_name.replace(\"_\", \" \").title())\n",
    "    \n",
    "    file_path = f\"plots/{plot_name}.png\"\n",
    "    plt.savefig(file_path)\n",
    "    plt.close()"
   ]
  },
  {
   "cell_type": "code",
   "execution_count": null,
   "metadata": {},
   "outputs": [],
   "source": []
  },
  {
   "cell_type": "code",
   "execution_count": 29,
   "metadata": {},
   "outputs": [
    {
     "name": "stderr",
     "output_type": "stream",
     "text": [
      "<>:1: SyntaxWarning: invalid escape sequence '\\G'\n",
      "<>:1: SyntaxWarning: invalid escape sequence '\\G'\n",
      "C:\\Users\\hp\\AppData\\Local\\Temp\\ipykernel_15072\\3292888899.py:1: SyntaxWarning: invalid escape sequence '\\G'\n",
      "  plot_path = \"G:\\GitDemo\\Flight_ML_Project\\plots\"\n"
     ]
    }
   ],
   "source": [
    "plot_path = \"G:\\GitDemo\\Flight_ML_Project\\plots\"\n",
    "plt.savefig(plot_path)\n",
    "plt.close()\n"
   ]
  },
  {
   "cell_type": "code",
   "execution_count": 30,
   "metadata": {
    "executionInfo": {
     "elapsed": 9,
     "status": "ok",
     "timestamp": 1751662908571,
     "user": {
      "displayName": "Sandhya Saroj",
      "userId": "05699049451329936310"
     },
     "user_tz": -330
    },
    "id": "ne0smoSdLyqt"
   },
   "outputs": [],
   "source": [
    "#  Feature & Target Split"
   ]
  },
  {
   "cell_type": "code",
   "execution_count": 31,
   "metadata": {
    "executionInfo": {
     "elapsed": 7,
     "status": "ok",
     "timestamp": 1751662908572,
     "user": {
      "displayName": "Sandhya Saroj",
      "userId": "05699049451329936310"
     },
     "user_tz": -330
    },
    "id": "t4pcFg2fL0_n"
   },
   "outputs": [],
   "source": [
    "x = dataset.drop('Price', axis=1)\n",
    "y = dataset['Price']"
   ]
  },
  {
   "cell_type": "code",
   "execution_count": 32,
   "metadata": {},
   "outputs": [],
   "source": [
    "x_train, x_test, y_train, y_test = train_test_split(x, y, test_size=0.2, random_state=42)"
   ]
  },
  {
   "cell_type": "code",
   "execution_count": 33,
   "metadata": {
    "executionInfo": {
     "elapsed": 3,
     "status": "ok",
     "timestamp": 1751662908576,
     "user": {
      "displayName": "Sandhya Saroj",
      "userId": "05699049451329936310"
     },
     "user_tz": -330
    },
    "id": "933ptzMjL_tb"
   },
   "outputs": [],
   "source": [
    "# Features\n",
    "num_features = ['Journey_day', 'Journey_month', 'Dep_hour', 'Dep_minute',\n",
    "                'Arrival_hour', 'Arrival_minute', 'Duration_hours', 'Duration_minutes', 'Total_Stops']\n",
    "\n",
    "cat_features = ['Airline', 'Source', 'Destination']"
   ]
  },
  {
   "cell_type": "code",
   "execution_count": 34,
   "metadata": {
    "executionInfo": {
     "elapsed": 3,
     "status": "ok",
     "timestamp": 1751662908607,
     "user": {
      "displayName": "Sandhya Saroj",
      "userId": "05699049451329936310"
     },
     "user_tz": -330
    },
    "id": "eF-Lc-nkMSNg"
   },
   "outputs": [],
   "source": [
    "# Preprocessor\n",
    "preprocessor = ColumnTransformer([\n",
    "    ('num', StandardScaler(), num_features),\n",
    "    ('cat', OneHotEncoder(drop='first', handle_unknown='ignore'), cat_features)\n",
    "])\n"
   ]
  },
  {
   "cell_type": "code",
   "execution_count": 35,
   "metadata": {
    "executionInfo": {
     "elapsed": 21,
     "status": "ok",
     "timestamp": 1751662908630,
     "user": {
      "displayName": "Sandhya Saroj",
      "userId": "05699049451329936310"
     },
     "user_tz": -330
    },
    "id": "5eWFv9fvPZaZ"
   },
   "outputs": [],
   "source": [
    "from sklearn.pipeline import Pipeline"
   ]
  },
  {
   "cell_type": "code",
   "execution_count": 36,
   "metadata": {},
   "outputs": [],
   "source": [
    "from sklearn.ensemble import GradientBoostingRegressor"
   ]
  },
  {
   "cell_type": "code",
   "execution_count": 37,
   "metadata": {},
   "outputs": [],
   "source": [
    "models = {\n",
    "    'LinearRegression': LinearRegression(),\n",
    "    'RandomForest': RandomForestRegressor(n_estimators=100, random_state=42),\n",
    "    'XGBoost': XGBRegressor(n_estimators=100, learning_rate=0.1, random_state=42)\n",
    "}\n"
   ]
  },
  {
   "cell_type": "code",
   "execution_count": null,
   "metadata": {
    "executionInfo": {
     "elapsed": 8,
     "status": "ok",
     "timestamp": 1751662908644,
     "user": {
      "displayName": "Sandhya Saroj",
      "userId": "05699049451329936310"
     },
     "user_tz": -330
    },
    "id": "u6l_B2urNUTx"
   },
   "outputs": [],
   "source": []
  },
  {
   "cell_type": "code",
   "execution_count": 38,
   "metadata": {
    "executionInfo": {
     "elapsed": 3,
     "status": "ok",
     "timestamp": 1751662908684,
     "user": {
      "displayName": "Sandhya Saroj",
      "userId": "05699049451329936310"
     },
     "user_tz": -330
    },
    "id": "ZH4-cmAGNmR1"
   },
   "outputs": [],
   "source": [
    "#  MLflow Tracking\n"
   ]
  },
  {
   "cell_type": "code",
   "execution_count": 39,
   "metadata": {
    "executionInfo": {
     "elapsed": 116,
     "status": "ok",
     "timestamp": 1751662918008,
     "user": {
      "displayName": "Sandhya Saroj",
      "userId": "05699049451329936310"
     },
     "user_tz": -330
    },
    "id": "7LZEYsWDN1Ne"
   },
   "outputs": [],
   "source": [
    "import mlflow\n",
    "import mlflow.sklearn"
   ]
  },
  {
   "cell_type": "code",
   "execution_count": 40,
   "metadata": {
    "executionInfo": {
     "elapsed": 129,
     "status": "ok",
     "timestamp": 1751662918043,
     "user": {
      "displayName": "Sandhya Saroj",
      "userId": "05699049451329936310"
     },
     "user_tz": -330
    },
    "id": "db6dB5vlOUas"
   },
   "outputs": [
    {
     "data": {
      "text/plain": [
       "<Experiment: artifact_location='mlflow-artifacts:/b8f5495b29ff448e9a6da53dab2d88ad', creation_time=1751701427808, experiment_id='1', last_update_time=1751701427808, lifecycle_stage='active', name='Flight_Price_Regression_EDA', tags={}>"
      ]
     },
     "execution_count": 40,
     "metadata": {},
     "output_type": "execute_result"
    }
   ],
   "source": [
    "mlflow.set_experiment(\"Flight_Price_Regression_EDA\")"
   ]
  },
  {
   "cell_type": "code",
   "execution_count": 42,
   "metadata": {},
   "outputs": [
    {
     "name": "stderr",
     "output_type": "stream",
     "text": [
      "<>:9: SyntaxWarning: invalid escape sequence '\\G'\n",
      "<>:9: SyntaxWarning: invalid escape sequence '\\G'\n",
      "C:\\Users\\hp\\AppData\\Local\\Temp\\ipykernel_15072\\3347229786.py:9: SyntaxWarning: invalid escape sequence '\\G'\n",
      "  plt.savefig('G:\\GitDemo\\Flight_ML_Project\\plots2.png')\n"
     ]
    },
    {
     "name": "stdout",
     "output_type": "stream",
     "text": [
      "🏃 View run EDA_Plots at: https://dagshub.com/Sandhya234-wq/Flight-Price-Prediction.mlflow/#/experiments/1/runs/c62f79197631412a97fbba8ad831a295\n",
      "🧪 View experiment at: https://dagshub.com/Sandhya234-wq/Flight-Price-Prediction.mlflow/#/experiments/1\n"
     ]
    }
   ],
   "source": [
    "with mlflow.start_run(run_name=\"EDA_Plots\"):\n",
    "    for plot_name, plot_func in plot_definitions.items():\n",
    "        plt.figure(figsize=(8, 5))\n",
    "        plot_func()\n",
    "        plt.title(plot_name.replace(\"_\", \" \").title())\n",
    "\n",
    "        # Save the plot\n",
    "        file_path = f\"plots/{plot_name}.png\"\n",
    "        plt.savefig('G:\\GitDemo\\Flight_ML_Project\\plots2.png')\n",
    "        plt.close()\n",
    "\n",
    "\n",
    "        mlflow.log_artifact(file_path, artifact_path=\"EDA_Plots\")"
   ]
  },
  {
   "cell_type": "code",
   "execution_count": 43,
   "metadata": {},
   "outputs": [],
   "source": [
    "import joblib"
   ]
  },
  {
   "cell_type": "code",
   "execution_count": 44,
   "metadata": {
    "colab": {
     "base_uri": "https://localhost:8080/"
    },
    "executionInfo": {
     "elapsed": 11313,
     "status": "ok",
     "timestamp": 1751663081312,
     "user": {
      "displayName": "Sandhya Saroj",
      "userId": "05699049451329936310"
     },
     "user_tz": -330
    },
    "id": "9EcaXWeeOlrn",
    "outputId": "f7099609-fe73-40ff-9ea0-c47f9984c031"
   },
   "outputs": [
    {
     "name": "stdout",
     "output_type": "stream",
     "text": [
      "LinearRegression - MAE: 1972.94, RMSE: 8202327.56, R2: 0.62\n",
      "🏃 View run LinearRegression at: https://dagshub.com/Sandhya234-wq/Flight-Price-Prediction.mlflow/#/experiments/1/runs/546c1132ec9048dca8d526ef68c0b65b\n",
      "🧪 View experiment at: https://dagshub.com/Sandhya234-wq/Flight-Price-Prediction.mlflow/#/experiments/1\n",
      "RandomForest - MAE: 1179.76, RMSE: 4386013.24, R2: 0.80\n",
      "🏃 View run RandomForest at: https://dagshub.com/Sandhya234-wq/Flight-Price-Prediction.mlflow/#/experiments/1/runs/0c8a33f8785148baba72bc922484e7d3\n",
      "🧪 View experiment at: https://dagshub.com/Sandhya234-wq/Flight-Price-Prediction.mlflow/#/experiments/1\n",
      "XGBoost - MAE: 1242.93, RMSE: 3464289.50, R2: 0.84\n",
      "🏃 View run XGBoost at: https://dagshub.com/Sandhya234-wq/Flight-Price-Prediction.mlflow/#/experiments/1/runs/97d66db213bd400eaa472c209aff8be0\n",
      "🧪 View experiment at: https://dagshub.com/Sandhya234-wq/Flight-Price-Prediction.mlflow/#/experiments/1\n"
     ]
    }
   ],
   "source": [
    "for flight, model in models.items():\n",
    "    with mlflow.start_run(run_name=flight):\n",
    "        pipeline = Pipeline([\n",
    "            ('preprocessor', preprocessor),\n",
    "            ('regressor', model)\n",
    "        ])\n",
    "\n",
    "        pipeline.fit(x_train, y_train)\n",
    "        y_pred = pipeline.predict(x_test)\n",
    "\n",
    "        mae = mean_absolute_error(y_test, y_pred)\n",
    "        rmse = mean_squared_error(y_test, y_pred)\n",
    "        r2 = r2_score(y_test, y_pred)\n",
    "\n",
    "        mlflow.log_param(\"model\", flight)\n",
    "        mlflow.log_metric(\"MAE\", mae)\n",
    "        mlflow.log_metric(\"RMSE\", rmse)\n",
    "        mlflow.log_metric(\"R2_Score\", r2)\n",
    "\n",
    "        mlflow.log_artifact(plot_path)\n",
    "        \n",
    "    \n",
    "\n",
    "\n",
    "       # mlflow.sklearn.log_model(pipeline, \"model\")\n",
    "\n",
    "\n",
    "        print(f\"{flight} - MAE: {mae:.2f}, RMSE: {rmse:.2f}, R2: {r2:.2f}\")"
   ]
  },
  {
   "cell_type": "code",
   "execution_count": null,
   "metadata": {},
   "outputs": [
    {
     "data": {
      "text/plain": [
       "['flight_price_model.pkl']"
      ]
     },
     "execution_count": 118,
     "metadata": {},
     "output_type": "execute_result"
    }
   ],
   "source": [
    "joblib.dump(pipeline, \"flight_price_model.pkl\")\n"
   ]
  }
 ],
 "metadata": {
  "colab": {
   "authorship_tag": "ABX9TyP+J6M7ZBe7HHQzheFJcIR7",
   "provenance": []
  },
  "kernelspec": {
   "display_name": ".venv",
   "language": "python",
   "name": "python3"
  },
  "language_info": {
   "codemirror_mode": {
    "name": "ipython",
    "version": 3
   },
   "file_extension": ".py",
   "mimetype": "text/x-python",
   "name": "python",
   "nbconvert_exporter": "python",
   "pygments_lexer": "ipython3",
   "version": "3.13.2"
  }
 },
 "nbformat": 4,
 "nbformat_minor": 0
}
